{
  "cells": [
    {
      "cell_type": "markdown",
      "id": "ddf9af6b",
      "metadata": {
        "id": "ddf9af6b"
      },
      "source": [
        "# 🍽️ Food-101 CNN Classifier (PyTorch + timm)\n",
        "Colab-ready | Official split | AMP | Cosine LR | Grad-CAM\n"
      ]
    },
    {
      "cell_type": "markdown",
      "id": "175a25b1",
      "metadata": {
        "id": "175a25b1"
      },
      "source": [
        "## 0. Check runtime (GPU?)"
      ]
    },
    {
      "cell_type": "code",
      "execution_count": null,
      "id": "03a15903",
      "metadata": {
        "id": "03a15903"
      },
      "outputs": [],
      "source": [
        "import torch\n",
        "print('CUDA available:', torch.cuda.is_available())\n",
        "print('Device count:', torch.cuda.device_count())"
      ]
    },
    {
      "cell_type": "code",
      "source": [
        "import kagglehub\n",
        "kmader_food41_path = kagglehub.dataset_download('kmader/food41')\n",
        "\n",
        "print('Data source import complete.')"
      ],
      "metadata": {
        "id": "kODxdetqdx6_"
      },
      "id": "kODxdetqdx6_",
      "execution_count": null,
      "outputs": []
    },
    {
      "cell_type": "markdown",
      "id": "a7b70a62",
      "metadata": {
        "id": "a7b70a62"
      },
      "source": [
        "## 1. Install libraries"
      ]
    },
    {
      "cell_type": "code",
      "execution_count": null,
      "id": "e1647566",
      "metadata": {
        "id": "e1647566"
      },
      "outputs": [],
      "source": [
        "!pip -q install timm==0.9.16 seaborn scikit-learn torchinfo\n",
        "!pip -q install git+https://github.com/jacobgil/pytorch-grad-cam.git\n"
      ]
    },
    {
      "cell_type": "markdown",
      "id": "1080dfa5",
      "metadata": {
        "id": "1080dfa5"
      },
      "source": [
        "## 2. Imports & config"
      ]
    },
    {
      "cell_type": "code",
      "execution_count": null,
      "id": "8214e933",
      "metadata": {
        "id": "8214e933"
      },
      "outputs": [],
      "source": [
        "import os, random, json\n",
        "from pathlib import Path\n",
        "import numpy as np\n",
        "import pandas as pd\n",
        "from PIL import Image\n",
        "\n",
        "import torch\n",
        "import torch.nn as nn\n",
        "import torch.optim as optim\n",
        "from torch.utils.data import Dataset, DataLoader\n",
        "from torchvision import transforms\n",
        "import timm\n",
        "\n",
        "from sklearn.metrics import confusion_matrix, classification_report, top_k_accuracy_score\n",
        "import seaborn as sns\n",
        "import matplotlib.pyplot as plt\n",
        "from tqdm.auto import tqdm\n",
        "\n",
        "from pytorch_grad_cam import GradCAM\n",
        "from pytorch_grad_cam.utils.image import show_cam_on_image\n",
        "from pytorch_grad_cam.utils.model_targets import ClassifierOutputTarget\n",
        "from torchinfo import summary\n",
        "\n",
        "device = torch.device('cuda' if torch.cuda.is_available() else 'cpu')\n",
        "print('Using device:', device)\n",
        "\n",
        "# ---- Config ----\n",
        "DATA_ROOT = Path('/kaggle/input/food41')\n",
        "IMG_DIR   = DATA_ROOT / 'images'\n",
        "META_DIR  = DATA_ROOT / 'meta'\n",
        "\n",
        "\n",
        "BACKBONE = 'efficientnet_b3'\n",
        "IMG_SIZE = 224\n",
        "BATCH    = 64\n",
        "EPOCHS   = 12\n",
        "LR       = 3e-4\n",
        "WEIGHT_DECAY = 1e-4\n",
        "LABEL_SMOOTH = 0.1\n",
        "NUM_WORKERS = 2\n",
        "SEED = 42\n",
        "\n",
        "torch.manual_seed(SEED); random.seed(SEED); np.random.seed(SEED)"
      ]
    },
    {
      "cell_type": "code",
      "source": [
        "import os\n",
        "print('Images exist:', IMG_DIR.exists())\n",
        "print('Meta exist:', META_DIR.exists())\n",
        "print('Sample classes:', sorted(os.listdir(IMG_DIR))[:5])\n"
      ],
      "metadata": {
        "id": "36kZlUORii49"
      },
      "id": "36kZlUORii49",
      "execution_count": null,
      "outputs": []
    },
    {
      "cell_type": "markdown",
      "id": "0287e852",
      "metadata": {
        "id": "0287e852"
      },
      "source": [
        "## 3. Dataset & loaders (official split)"
      ]
    },
    {
      "cell_type": "code",
      "source": [
        "import json\n",
        "from pathlib import Path\n",
        "\n",
        "def read_txt_list(p):\n",
        "    with open(p) as f:\n",
        "        return [line.strip() for line in f]\n",
        "\n",
        "# 1) Classes\n",
        "if (META_DIR/'classes.txt').exists():\n",
        "    classes = [c.strip() for c in open(META_DIR/'classes.txt')]\n",
        "elif (META_DIR/'classes.json').exists():\n",
        "    classes = json.load(open(META_DIR/'classes.json'))\n",
        "else:\n",
        "    # fallback: infer from folder names\n",
        "    classes = sorted([d.name for d in IMG_DIR.iterdir() if d.is_dir()])\n",
        "class_to_idx = {c:i for i,c in enumerate(classes)}\n",
        "\n",
        "# 2) Train/Test lists\n",
        "if (META_DIR/'train.txt').exists():\n",
        "    train_list = read_txt_list(META_DIR/'train.txt')\n",
        "    test_list  = read_txt_list(META_DIR/'test.txt')\n",
        "elif (META_DIR/'train.json').exists():\n",
        "    train_list = json.load(open(META_DIR/'train.json'))\n",
        "    test_list  = json.load(open(META_DIR/'test.json'))\n",
        "else:\n",
        "    # fallback: random split\n",
        "    from sklearn.model_selection import train_test_split\n",
        "    all_files = [p.relative_to(IMG_DIR).with_suffix('').as_posix()\n",
        "                 for p in IMG_DIR.rglob('*.jpg')]\n",
        "    y = [p.split('/')[0] for p in all_files]\n",
        "    train_list, test_list = train_test_split(all_files, test_size=0.2,\n",
        "                                             random_state=42, stratify=y)\n",
        "\n",
        "print(len(classes), 'classes')\n",
        "print(len(train_list), 'train samples')\n",
        "print(len(test_list),  'test samples')\n"
      ],
      "metadata": {
        "id": "NGyIpjL9l3OQ"
      },
      "id": "NGyIpjL9l3OQ",
      "execution_count": null,
      "outputs": []
    },
    {
      "cell_type": "code",
      "execution_count": null,
      "id": "ee6fc9dc",
      "metadata": {
        "id": "ee6fc9dc"
      },
      "outputs": [],
      "source": [
        "def read_split(txt_file):\n",
        "    with open(txt_file) as f:\n",
        "        return [line.strip() for line in f]\n",
        "\n",
        "#  classes = [c.strip() for c in open(META_DIR/'classes.txt')]\n",
        "#  class_to_idx = {c:i for i,c in enumerate(classes)}\n",
        "\n",
        "#  train_list = read_split(META_DIR/'train.txt')\n",
        "#  test_list  = read_split(META_DIR/'test.txt')\n",
        "\n",
        "train_tfms = transforms.Compose([\n",
        "    transforms.Resize(int(IMG_SIZE*1.15)),\n",
        "    transforms.CenterCrop(IMG_SIZE),\n",
        "    transforms.RandAugment(num_ops=2, magnitude=9),\n",
        "    transforms.RandomHorizontalFlip(),\n",
        "    transforms.ToTensor(),\n",
        "    transforms.Normalize([0.485,0.456,0.406],[0.229,0.224,0.225]),\n",
        "    transforms.RandomErasing(p=0.1)\n",
        "])\n",
        "\n",
        "test_tfms = transforms.Compose([\n",
        "    transforms.Resize(int(IMG_SIZE*1.15)),\n",
        "    transforms.CenterCrop(IMG_SIZE),\n",
        "    transforms.ToTensor(),\n",
        "    transforms.Normalize([0.485,0.456,0.406],[0.229,0.224,0.225])\n",
        "])\n",
        "\n",
        "class Food101Split(Dataset):\n",
        "    def __init__(self, file_list, transform=None):\n",
        "        self.file_list = file_list\n",
        "        self.transform = transform\n",
        "    def __len__(self):\n",
        "        return len(self.file_list)\n",
        "    def __getitem__(self, idx):\n",
        "        rel = self.file_list[idx]\n",
        "        img_path = IMG_DIR/f'{rel}.jpg'\n",
        "        y = class_to_idx[rel.split('/')[0]]\n",
        "        img = Image.open(img_path).convert('RGB')\n",
        "        if self.transform:\n",
        "            img = self.transform(img)\n",
        "        return img, y\n",
        "\n",
        "train_ds = Food101Split(train_list, transform=train_tfms)\n",
        "test_ds  = Food101Split(test_list,  transform=test_tfms)\n",
        "\n",
        "train_loader = DataLoader(train_ds, batch_size=BATCH, shuffle=True,\n",
        "                          num_workers=NUM_WORKERS, pin_memory=True)\n",
        "test_loader  = DataLoader(test_ds,  batch_size=BATCH, shuffle=False,\n",
        "                          num_workers=NUM_WORKERS, pin_memory=True)\n",
        "\n",
        "len(train_ds), len(test_ds)"
      ]
    },
    {
      "cell_type": "markdown",
      "id": "e0989f81",
      "metadata": {
        "id": "e0989f81"
      },
      "source": [
        "## 5. Model & optimizer"
      ]
    },
    {
      "cell_type": "code",
      "execution_count": null,
      "id": "5d6250f9",
      "metadata": {
        "id": "5d6250f9"
      },
      "outputs": [],
      "source": [
        "model = timm.create_model(BACKBONE, pretrained=True, num_classes=len(classes)).to(device)\n",
        "summary(model, input_size=(BATCH,3,IMG_SIZE,IMG_SIZE), verbose=0)\n",
        "\n",
        "criterion = nn.CrossEntropyLoss(label_smoothing=LABEL_SMOOTH)\n",
        "optimizer = optim.AdamW(model.parameters(), lr=LR, weight_decay=WEIGHT_DECAY)\n",
        "scheduler = optim.lr_scheduler.CosineAnnealingLR(optimizer, T_max=EPOCHS)\n",
        "scaler = torch.cuda.amp.GradScaler(enabled=torch.cuda.is_available())"
      ]
    },
    {
      "cell_type": "code",
      "source": [
        "from pathlib import Path\n",
        "Path('/content/best_food101.pth').exists()\n"
      ],
      "metadata": {
        "id": "e3FRmXbfFbxo"
      },
      "id": "e3FRmXbfFbxo",
      "execution_count": null,
      "outputs": []
    },
    {
      "cell_type": "markdown",
      "id": "6e75cb1f",
      "metadata": {
        "id": "6e75cb1f"
      },
      "source": [
        "## 6. Train & evaluate loops"
      ]
    },
    {
      "cell_type": "code",
      "source": [
        "'model' in locals(), 'labels_tensor' in locals()\n"
      ],
      "metadata": {
        "id": "Nue7Sg2mHmAI"
      },
      "id": "Nue7Sg2mHmAI",
      "execution_count": null,
      "outputs": []
    },
    {
      "cell_type": "code",
      "source": [
        "def train_one_epoch(epoch):\n",
        "    model.train()\n",
        "    run_loss = 0\n",
        "    pbar = tqdm(train_loader, desc=f'Epoch {epoch}')\n",
        "    for x, y in pbar:\n",
        "        x, y = x.to(device), y.to(device)\n",
        "        optimizer.zero_grad(set_to_none=True)\n",
        "        with torch.cuda.amp.autocast(enabled=torch.cuda.is_available()):\n",
        "            out = model(x)\n",
        "            loss = criterion(out, y)\n",
        "        scaler.scale(loss).backward()\n",
        "        scaler.step(optimizer)\n",
        "        scaler.update()\n",
        "        run_loss += loss.item()\n",
        "        pbar.set_postfix(loss=run_loss/len(pbar))\n",
        "    scheduler.step()\n",
        "\n",
        "@torch.no_grad()\n",
        "def evaluate(loader):\n",
        "    model.eval()\n",
        "    correct, total = 0, 0\n",
        "    all_logits, all_labels = [], []\n",
        "    for x, y in loader:\n",
        "        x = x.to(device)\n",
        "        logits = model(x).cpu()\n",
        "        preds = logits.argmax(1)\n",
        "        correct += (preds == y).sum().item()\n",
        "        total += y.size(0)\n",
        "        all_logits.append(logits)\n",
        "        all_labels.append(y)\n",
        "    acc = 100*correct/total\n",
        "    all_logits = torch.cat(all_logits)\n",
        "    all_labels = torch.cat(all_labels)\n",
        "    top5 = top_k_accuracy_score(all_labels, all_logits, k=5, labels=range(len(classes)))\n",
        "    print(f'Val Acc: {acc:.2f}%, Top-5: {top5*100:.2f}%')\n",
        "    return acc, top5, all_logits.argmax(1), all_labels"
      ],
      "metadata": {
        "id": "NpnNxa3hJt8m"
      },
      "id": "NpnNxa3hJt8m",
      "execution_count": null,
      "outputs": []
    },
    {
      "cell_type": "code",
      "execution_count": null,
      "id": "3d1085de",
      "metadata": {
        "id": "3d1085de"
      },
      "outputs": [],
      "source": [
        "best = 0\n",
        "for ep in range(1, EPOCHS+1):\n",
        "    train_one_epoch(ep)\n",
        "    acc, top5, preds, labels_tensor = evaluate(test_loader)\n",
        "    if acc > best:\n",
        "        best = acc\n",
        "        torch.save(model.state_dict(), 'best_food101.pth')\n",
        "        print('✅ Saved new best model')"
      ]
    },
    {
      "cell_type": "markdown",
      "id": "270c6d56",
      "metadata": {
        "id": "270c6d56"
      },
      "source": [
        "## 7. Confusion matrix & report"
      ]
    },
    {
      "cell_type": "code",
      "execution_count": null,
      "id": "3bb44686",
      "metadata": {
        "id": "3bb44686"
      },
      "outputs": [],
      "source": [
        "cm = confusion_matrix(labels_tensor, preds, normalize='true')\n",
        "plt.figure(figsize=(12,10))\n",
        "sns.heatmap(cm, cmap='magma', cbar=False)\n",
        "plt.title('Normalized Confusion Matrix')\n",
        "plt.xlabel('Predicted'); plt.ylabel('True'); plt.show()\n",
        "\n",
        "print(classification_report(labels_tensor, preds, target_names=classes[:len(set(labels_tensor))]))"
      ]
    },
    {
      "cell_type": "markdown",
      "id": "92d6cfa9",
      "metadata": {
        "id": "92d6cfa9"
      },
      "source": [
        "## 8. Grad-CAM"
      ]
    },
    {
      "cell_type": "code",
      "execution_count": null,
      "id": "76a7f1a8",
      "metadata": {
        "id": "76a7f1a8"
      },
      "outputs": [],
      "source": [
        "def show_gradcam(img_path, true_label=None, class_idx=None):\n",
        "    model.eval()\n",
        "    rgb_img = Image.open(img_path).convert('RGB').resize((IMG_SIZE, IMG_SIZE))\n",
        "    input_tensor = test_tfms(rgb_img).unsqueeze(0).to(device)\n",
        "\n",
        "    # pick last conv layer automatically\n",
        "    target_layers = [list(model.modules())[-2]]\n",
        "    cam = GradCAM(model=model, target_layers=target_layers, use_cuda=torch.cuda.is_available())\n",
        "\n",
        "    targets = None\n",
        "    if class_idx is not None:\n",
        "        targets = [ClassifierOutputTarget(class_idx)]\n",
        "\n",
        "    grayscale_cam = cam(input_tensor=input_tensor, targets=targets)[0]\n",
        "    rgb_img_np = np.array(rgb_img)/255.0\n",
        "    visualization = show_cam_on_image(rgb_img_np, grayscale_cam, use_rgb=True)\n",
        "\n",
        "    plt.figure(figsize=(6,3))\n",
        "    plt.subplot(1,2,1); plt.imshow(rgb_img_np); plt.axis('off'); plt.title('Original')\n",
        "    plt.subplot(1,2,2); plt.imshow(visualization); plt.axis('off'); plt.title('Grad-CAM')\n",
        "    if true_label is not None:\n",
        "        plt.suptitle(f'True: {true_label}')\n",
        "    plt.show()\n",
        "\n",
        "# Example\n",
        "sample_rel = random.choice(test_list)\n",
        "img_path = IMG_DIR/f'{sample_rel}.jpg'\n",
        "true_lbl = sample_rel.split('/')[0]\n",
        "show_gradcam(img_path, true_label=true_lbl)\n"
      ]
    },
    {
      "cell_type": "markdown",
      "id": "7783e9e8",
      "metadata": {
        "id": "7783e9e8"
      },
      "source": [
        "## 9. Download artifacts"
      ]
    },
    {
      "cell_type": "code",
      "execution_count": null,
      "id": "52bfa7ca",
      "metadata": {
        "id": "52bfa7ca"
      },
      "outputs": [],
      "source": [
        "from google.colab import files\n",
        "files.download('best_food101.pth')"
      ]
    }
  ],
  "metadata": {
    "colab": {
      "provenance": []
    },
    "language_info": {
      "name": "python"
    },
    "kernelspec": {
      "name": "python3",
      "display_name": "Python 3"
    }
  },
  "nbformat": 4,
  "nbformat_minor": 5
}